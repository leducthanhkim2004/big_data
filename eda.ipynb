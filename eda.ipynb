{
 "cells": [
  {
   "cell_type": "code",
   "execution_count": null,
   "id": "a40494a8",
   "metadata": {},
   "outputs": [
    {
     "ename": "",
     "evalue": "",
     "output_type": "error",
     "traceback": [
      "\u001b[1;31mRunning cells with 'spark-env (Python 3.10.18)' requires the ipykernel package.\n",
      "\u001b[1;31m<a href='command:jupyter.createPythonEnvAndSelectController'>Create a Python Environment</a> with the required packages.\n",
      "\u001b[1;31mOr install 'ipykernel' using the command: 'conda install -n spark-env ipykernel --update-deps --force-reinstall'"
     ]
    }
   ],
   "source": [
    "import pyspark.pandas as ps\n",
    "import matplotlib.pyplot as plt\n",
    "import seaborn as sns\n",
    "from sklearn.preprocessing import StandardScaler\n",
    "def eda_spark_csv(path):\n",
    "    df = ps.read_csv(path)\n",
    "    drop_cols = [col for col in df.columns if col.endswith(\"_id\") or col.lower() == \"id\"]\n",
    "    df_clean = df.drop(columns=drop_cols)\n",
    "    numeric_cols = df_clean.select_dtypes(include=[\"int\", \"float\"]).columns\n",
    "    df_numeric = df_clean[numeric_cols].dropna()\n",
    "    scaler = StandardScaler()\n",
    "    df_scaled = ps.DataFrame(scaler.fit_transform(df_numeric.to_pandas()), columns=numeric_cols)\n",
    "    \n",
    "    # Plots\n",
    "    for col in numeric_cols:\n",
    "        plt.figure(figsize=(6, 4))\n",
    "        sns.histplot(df_scaled[col], kde=True)\n",
    "        plt.title(f\"Distribution of {col}\")\n",
    "        plt.tight_layout()\n",
    "        plt.show()\n",
    "\n",
    "    plt.figure(figsize=(10, 8))\n",
    "    sns.heatmap(df_scaled.corr(), annot=True, cmap=\"coolwarm\")\n",
    "    plt.title(\"Correlation Heatmap\")\n",
    "    plt.tight_layout()\n",
    "    plt.show()\n",
    "eda_spark_csv(r\"D:\\feb_to_apr\\alogs.csv\")"
   ]
  }
 ],
 "metadata": {
  "kernelspec": {
   "display_name": "spark-env",
   "language": "python",
   "name": "python3"
  },
  "language_info": {
   "name": "python",
   "version": "3.10.18"
  }
 },
 "nbformat": 4,
 "nbformat_minor": 5
}
