{
 "cells": [
  {
   "cell_type": "code",
   "execution_count": null,
   "id": "a40494a8",
   "metadata": {},
   "outputs": [
    {
     "ename": "",
     "evalue": "",
     "output_type": "error",
     "traceback": [
      "\u001b[1;31mRunning cells with 'spark-env (Python 3.10.18)' requires the ipykernel package.\n",
      "\u001b[1;31m<a href='command:jupyter.createPythonEnvAndSelectController'>Create a Python Environment</a> with the required packages.\n",
      "\u001b[1;31mOr install 'ipykernel' using the command: 'conda install -n spark-env ipykernel --update-deps --force-reinstall'"
     ]
    }
   ],
   "source": [
    "import pyspark.pandas as ps\n",
    "df = ps.read_csv(\"hdfs://localhost:9000/user/leduc/IMDB-Dataset.csv\")\n",
    "print(df.head())\n",
    "\n",
    "print(df.columns)\n",
    "\n",
    "# Describe statistics\n",
    "print(df.describe())\n",
    "\n",
    "# Group by a column\n",
    "print(df.groupby('sentiment').count())\n",
    "\n",
    "# Filtering\n",
    "positive = df[df['sentiment'] == 'positive']\n",
    "print(positive.head())\n"
   ]
  }
 ],
 "metadata": {
  "kernelspec": {
   "display_name": "spark-env",
   "language": "python",
   "name": "python3"
  },
  "language_info": {
   "name": "python",
   "version": "3.10.18"
  }
 },
 "nbformat": 4,
 "nbformat_minor": 5
}
